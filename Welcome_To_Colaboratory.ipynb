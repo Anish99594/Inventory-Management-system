{
  "nbformat": 4,
  "nbformat_minor": 0,
  "metadata": {
    "colab": {
      "name": "Welcome To Colaboratory",
      "provenance": [],
      "collapsed_sections": []
    },
    "kernelspec": {
      "display_name": "Python 3",
      "name": "python3"
    }
  },
  "cells": [
    {
      "cell_type": "code",
      "metadata": {
        "id": "rrdGlkieZVGf"
      },
      "source": [
        "record={'19R21A1201' : {\"Name\" : \"Amul Milk\", \"Quantity\" : \"1kg\", \"Price\" : 65, \"Stock\" : 15, \"Category\" : \"Food\"},\n",
        "   '19R21A1202' : {\"Name\" : \"Cookies\", \"Quantity\" : \"500grms\", \"Price\" : 30, \"Stock\" : 20, \"Category\" : \"Food\"},\n",
        "   '19R21A1203' : {\"Name\" : \"Icecream\", \"Quantity\" : \"100grms\", \"Price\" : 120, \"Stock\" : 10, \"Category\" : \"Food\"},\n",
        "   '19R21A1204' : {\"Name\" : \"Balaji Snack\", \"Quantity\" : \"250grms\", \"Price\" : 70, \"Stock\" : 30, \"Category\" : \"Food\"},\n",
        "   '19R21A1205' : {\"Name\" : \"Kissan Jam\", \"Quantity\" : \"250grms\", \"Price\" : 90, \"Stock\" : 20, \"Category\" : \"Food\"},\n",
        "   '19R21A1206' : {\"Name\" : \"Emami Cooking Oil\", \"Quantity\" : \"1kg\", \"Price\" : 190, \"Stock\" : 30, \"Category\" : \"Food\"},\n",
        "   '19R21A1207' : {\"Name\" : \"McChain Pizza\", \"Quantity\" : \"1kg\", \"Price\" : 300, \"Stock\" : 50, \"Category\" : \"Food\"},\n",
        "   '19R21A1208' : {\"Name\" : \"Mother Dairy Milk\", \"Quantity\" : \"1kg\", \"Price\" : 200, \"Stock\" : 15, \"Category\" : \"Food\"},\n",
        "   '19R21A1209' : {\"Name\" : \"Haldirams Snack\", \"Quantity\" : \"1kg\", \"Price\" : 500, \"Stock\" : 55, \"Category\" : \"Food\"},\n",
        "   '19R21A1210' : {\"Name\" : \"MTR Idli Rava\", \"Quantity\" : \"1kg\", \"Price\" : 60, \"Stock\" : 15, \"Category\" : \"Food\"},\n",
        "   '19R21A1211' : {\"Name\" : \"Old Monk Wine\", \"Quantity\" : \"1kg\", \"Price\" : 1500, \"Stock\" : 15, \"Category\" : \"Food\"},\n",
        "   '19R21A1212' : {\"Name\" : \"MDH Masala\", \"Quantity\" : \"10grms\", \"Price\" : 10, \"Stock\" : 40, \"Category\" : \"Food\"},\n",
        "   '19R21A1213' : {\"Name\" : \"PaperBoat Cooldrink\", \"Quantity\" : \"100grms\", \"Price\" : 20, \"Stock\" : 15, \"Category\" : \"Food\"},\n",
        "   '19R21A1214' : {\"Name\" : \"veeba Sause\", \"Quantity\" : \"1kg\", \"Price\" : 400, \"Stock\" : 25, \"Category\" : \"Food\"},\n",
        "   '19R21A1215' : {\"Name\" : \"White Owl Wine\", \"Quantity\" : \"1kg\", \"Price\" : 500, \"Stock\" : 15, \"Category\" : \"Food\"},\n",
        "   '19R21A1216' : {\"Name\" : \"Patanjali Health Drink\", \"Quantity\" : \"1kg\", \"Price\" : 700, \"Stock\" : 5, \"Category\" : \"Food\"},\n",
        "   '19R21A1217' : {\"Name\" : \"Bratinna Little Hearts\", \"Quantity\" : \"100grms\", \"Price\" : 20, \"Stock\" : 7, \"Category\" : \"Food\"},\n",
        "   '19R21A1218' : {\"Name\" : \"Dabur Honey\", \"Quantity\" : \"200grms\", \"Price\" : 100, \"Stock\" : 15, \"Category\" : \"Food\"},\n",
        "   '19R21A1219' : {\"Name\" : \"Everest Masala\", \"Quantity\" : \"1kg\", \"Price\" : 300, \"Stock\" : 25, \"Category\" : \"Food\"},\n",
        "   '19R21A1220' : {\"Name\" : \"Rooh Afza Juice\", \"Quantity\" : \"1kg\", \"Price\" : 200, \"Stock\" : 15, \"Category\" : \"Food\"},\n",
        "   '19R21A1221' : {\"Name\" : \"Kwality Walls Icecream\", \"Quantity\" : \"1kg\", \"Price\" : 1000, \"Stock\" : 10, \"Category\" : \"Food\"},\n",
        "   '19R21A1222' : {\"Name\" : \"Saffola Oil\", \"Quantity\" : \"1kg\", \"Price\" : 200, \"Stock\" : 15, \"Category\" : \"Food\"},\n",
        "   '19R21A1223' : {\"Name\" : \"Vimal Agro Pickle\", \"Quantity\" : \"400grms\", \"Price\" : 200, \"Stock\" : 25, \"Category\" : \"Food\"},\n",
        "   '19R21A1224' : {\"Name\" : \"Fortune Cooking Oil\", \"Quantity\" : \"1kg\", \"Price\" : 200, \"Stock\" : 15, \"Category\" : \"Food\"},\n",
        "   '19R21A1225' : {\"Name\" : \"Tata Sampan Dal\", \"Quantity\" : \"1kg\", \"Price\" : 50, \"Stock\" : 15, \"Category\" : \"Food\"},\n",
        "   '19R21A1226' : {\"Name\" : \"Dawaat Basmati Rice\", \"Quantity\" : \"1kg\", \"Price\" : 200, \"Stock\" : 5, \"Category\" : \"Food\"},\n",
        "   '19R21A1227' : {\"Name\" : \"Heritage Ghee\", \"Quantity\" : \"1kg\", \"Price\" : 200, \"Stock\" : 4, \"Category\" : \"Food\"},\n",
        "   '19R21A1228' : {\"Name\" : \"Hatsun Panner\", \"Quantity\" : \"500grms\", \"Price\" : 100, \"Stock\" : 15, \"Category\" : \"Food\"},\n",
        "   '19R21A1229' : {\"Name\" : \"ITC Ashirvaad Atta\", \"Quantity\" : \"10kg\", \"Price\" : 600, \"Stock\" : 7, \"Category\" : \"Food\"},\n",
        "   '19R21A1230' : {\"Name\" : \"Disano Pasta\", \"Quantity\" : \"1kg\", \"Price\" : 200, \"Stock\" : 15, \"Category\" : \"Food\"}}\n"
      ],
      "execution_count": 39,
      "outputs": []
    },
    {
      "cell_type": "code",
      "metadata": {
        "id": "SBEE72OYTXqN"
      },
      "source": [
        "import json"
      ],
      "execution_count": 40,
      "outputs": []
    },
    {
      "cell_type": "code",
      "metadata": {
        "id": "xXEj53x2Tc9i"
      },
      "source": [
        "js=json.dumps(record)"
      ],
      "execution_count": 41,
      "outputs": []
    },
    {
      "cell_type": "code",
      "metadata": {
        "id": "r_sYXhK4UtGY"
      },
      "source": [
        "fd=open(\"record.json\",\"w\")\n",
        "fd.write(js)\n",
        "fd.close()\n"
      ],
      "execution_count": 42,
      "outputs": []
    },
    {
      "cell_type": "code",
      "metadata": {
        "id": "lpa5jX7NVVoj"
      },
      "source": [
        "fd=open(\"record.json\",\"r\")\n",
        "txt=fd.read()\n",
        "fd.close()"
      ],
      "execution_count": 43,
      "outputs": []
    },
    {
      "cell_type": "code",
      "metadata": {
        "id": "uB2TFsqiWRof",
        "outputId": "9ab4e060-7162-4503-f69b-12cf83e19c5e",
        "colab": {
          "base_uri": "https://localhost:8080/"
        }
      },
      "source": [
        "record=json.loads(txt)"
      ],
      "execution_count": 73,
      "outputs": [
        {
          "output_type": "stream",
          "name": "stdout",
          "text": [
            "{'19R21A1201': {'Name': 'Amul Milk', 'Quantity': '1kg', 'Price': 65, 'Stock': 15, 'Category': 'Food'}, '19R21A1202': {'Name': 'Cookies', 'Quantity': '500grms', 'Price': 30, 'Stock': 20, 'Category': 'Food'}, '19R21A1203': {'Name': 'Icecream', 'Quantity': '100grms', 'Price': 120, 'Stock': 10, 'Category': 'Food'}, '19R21A1204': {'Name': 'Balaji Snack', 'Quantity': '250grms', 'Price': 70, 'Stock': 30, 'Category': 'Food'}, '19R21A1205': {'Name': 'Kissan Jam', 'Quantity': '250grms', 'Price': 90, 'Stock': 20, 'Category': 'Food'}, '19R21A1206': {'Name': 'Emami Cooking Oil', 'Quantity': '1kg', 'Price': 190, 'Stock': 30, 'Category': 'Food'}, '19R21A1207': {'Name': 'McChain Pizza', 'Quantity': '1kg', 'Price': 300, 'Stock': 50, 'Category': 'Food'}, '19R21A1208': {'Name': 'Mother Dairy Milk', 'Quantity': '1kg', 'Price': 200, 'Stock': 15, 'Category': 'Food'}, '19R21A1209': {'Name': 'Haldirams Snack', 'Quantity': '1kg', 'Price': 500, 'Stock': 55, 'Category': 'Food'}, '19R21A1210': {'Name': 'MTR Idli Rava', 'Quantity': '1kg', 'Price': 60, 'Stock': 15, 'Category': 'Food'}, '19R21A1211': {'Name': 'Old Monk Wine', 'Quantity': '1kg', 'Price': 1500, 'Stock': 15, 'Category': 'Food'}, '19R21A1212': {'Name': 'MDH Masala', 'Quantity': '10grms', 'Price': 10, 'Stock': 40, 'Category': 'Food'}, '19R21A1213': {'Name': 'PaperBoat Cooldrink', 'Quantity': '100grms', 'Price': 20, 'Stock': 15, 'Category': 'Food'}, '19R21A1214': {'Name': 'veeba Sause', 'Quantity': '1kg', 'Price': 400, 'Stock': 25, 'Category': 'Food'}, '19R21A1215': {'Name': 'White Owl Wine', 'Quantity': '1kg', 'Price': 500, 'Stock': 15, 'Category': 'Food'}, '19R21A1216': {'Name': 'Patanjali Health Drink', 'Quantity': '1kg', 'Price': 700, 'Stock': 5, 'Category': 'Food'}, '19R21A1217': {'Name': 'Bratinna Little Hearts', 'Quantity': '100grms', 'Price': 20, 'Stock': 7, 'Category': 'Food'}, '19R21A1218': {'Name': 'Dabur Honey', 'Quantity': '200grms', 'Price': 100, 'Stock': 15, 'Category': 'Food'}, '19R21A1219': {'Name': 'Everest Masala', 'Quantity': '1kg', 'Price': 300, 'Stock': 25, 'Category': 'Food'}, '19R21A1220': {'Name': 'Rooh Afza Juice', 'Quantity': '1kg', 'Price': 200, 'Stock': 15, 'Category': 'Food'}, '19R21A1221': {'Name': 'Kwality Walls Icecream', 'Quantity': '1kg', 'Price': 1000, 'Stock': 10, 'Category': 'Food'}, '19R21A1222': {'Name': 'Saffola Oil', 'Quantity': '1kg', 'Price': 200, 'Stock': 15, 'Category': 'Food'}, '19R21A1223': {'Name': 'Vimal Agro Pickle', 'Quantity': '400grms', 'Price': 200, 'Stock': 25, 'Category': 'Food'}, '19R21A1224': {'Name': 'Fortune Cooking Oil', 'Quantity': '1kg', 'Price': 200, 'Stock': 15, 'Category': 'Food'}, '19R21A1225': {'Name': 'Tata Sampan Dal', 'Quantity': '1kg', 'Price': 50, 'Stock': 15, 'Category': 'Food'}, '19R21A1226': {'Name': 'Dawaat Basmati Rice', 'Quantity': '1kg', 'Price': 200, 'Stock': 5, 'Category': 'Food'}, '19R21A1227': {'Name': 'Heritage Ghee', 'Quantity': '1kg', 'Price': 200, 'Stock': 4, 'Category': 'Food'}, '19R21A1228': {'Name': 'Hatsun Panner', 'Quantity': '500grms', 'Price': 100, 'Stock': 15, 'Category': 'Food'}, '19R21A1229': {'Name': 'ITC Ashirvaad Atta', 'Quantity': '10kg', 'Price': 600, 'Stock': 7, 'Category': 'Food'}, '19R21A1230': {'Name': 'Disano Pasta', 'Quantity': '1kg', 'Price': 200, 'Stock': 15, 'Category': 'Food'}}\n"
          ]
        }
      ]
    },
    {
      "cell_type": "code",
      "metadata": {
        "id": "LTcJuI1TXbrV",
        "outputId": "01a6ea4a-cdeb-49b8-a2e2-d59bf0e2202c",
        "colab": {
          "base_uri": "https://localhost:8080/"
        }
      },
      "source": [
        "'''Displaying list of items to customer'''\n",
        "for i in record:\n",
        "  print(\"product ID:\",i,\",\",\"Name:\",record[i]['Name'],\",\",\"Price:\",record[i]['Price'],\",\",\"quantity:\",record[i]['Quantity'])"
      ],
      "execution_count": 49,
      "outputs": [
        {
          "output_type": "stream",
          "name": "stdout",
          "text": [
            "product ID: 19R21A1201 , Name: Amul Milk , Price: 65 , quantity: 1kg\n",
            "product ID: 19R21A1202 , Name: Cookies , Price: 30 , quantity: 500grms\n",
            "product ID: 19R21A1203 , Name: Icecream , Price: 120 , quantity: 100grms\n",
            "product ID: 19R21A1204 , Name: Balaji Snack , Price: 70 , quantity: 250grms\n",
            "product ID: 19R21A1205 , Name: Kissan Jam , Price: 90 , quantity: 250grms\n",
            "product ID: 19R21A1206 , Name: Emami Cooking Oil , Price: 190 , quantity: 1kg\n",
            "product ID: 19R21A1207 , Name: McChain Pizza , Price: 300 , quantity: 1kg\n",
            "product ID: 19R21A1208 , Name: Mother Dairy Milk , Price: 200 , quantity: 1kg\n",
            "product ID: 19R21A1209 , Name: Haldirams Snack , Price: 500 , quantity: 1kg\n",
            "product ID: 19R21A1210 , Name: MTR Idli Rava , Price: 60 , quantity: 1kg\n",
            "product ID: 19R21A1211 , Name: Old Monk Wine , Price: 1500 , quantity: 1kg\n",
            "product ID: 19R21A1212 , Name: MDH Masala , Price: 10 , quantity: 10grms\n",
            "product ID: 19R21A1213 , Name: PaperBoat Cooldrink , Price: 20 , quantity: 100grms\n",
            "product ID: 19R21A1214 , Name: veeba Sause , Price: 400 , quantity: 1kg\n",
            "product ID: 19R21A1215 , Name: White Owl Wine , Price: 500 , quantity: 1kg\n",
            "product ID: 19R21A1216 , Name: Patanjali Health Drink , Price: 700 , quantity: 1kg\n",
            "product ID: 19R21A1217 , Name: Bratinna Little Hearts , Price: 20 , quantity: 100grms\n",
            "product ID: 19R21A1218 , Name: Dabur Honey , Price: 100 , quantity: 200grms\n",
            "product ID: 19R21A1219 , Name: Everest Masala , Price: 300 , quantity: 1kg\n",
            "product ID: 19R21A1220 , Name: Rooh Afza Juice , Price: 200 , quantity: 1kg\n",
            "product ID: 19R21A1221 , Name: Kwality Walls Icecream , Price: 1000 , quantity: 1kg\n",
            "product ID: 19R21A1222 , Name: Saffola Oil , Price: 200 , quantity: 1kg\n",
            "product ID: 19R21A1223 , Name: Vimal Agro Pickle , Price: 200 , quantity: 400grms\n",
            "product ID: 19R21A1224 , Name: Fortune Cooking Oil , Price: 200 , quantity: 1kg\n",
            "product ID: 19R21A1225 , Name: Tata Sampan Dal , Price: 50 , quantity: 1kg\n",
            "product ID: 19R21A1226 , Name: Dawaat Basmati Rice , Price: 200 , quantity: 1kg\n",
            "product ID: 19R21A1227 , Name: Heritage Ghee , Price: 200 , quantity: 1kg\n",
            "product ID: 19R21A1228 , Name: Hatsun Panner , Price: 100 , quantity: 500grms\n",
            "product ID: 19R21A1229 , Name: ITC Ashirvaad Atta , Price: 600 , quantity: 10kg\n",
            "product ID: 19R21A1230 , Name: Disano Pasta , Price: 200 , quantity: 1kg\n"
          ]
        }
      ]
    },
    {
      "cell_type": "code",
      "metadata": {
        "id": "e1EzRfredCnw",
        "outputId": "8b7ea275-7160-4e19-ad4f-2e96b315c610",
        "colab": {
          "base_uri": "https://localhost:8080/"
        }
      },
      "source": [
        "'''Taking the input from the user'''\n",
        "import time\n",
        "import json\n",
        "ti=time.gmtime()\n",
        "product_id=input(\"Enter product ID: \")\n",
        "product_stock=int(input(\"Enter the quantity: \"))\n",
        "product=0\n",
        "for i in record:\n",
        "  if(product_id==i):\n",
        "    product=1\n",
        "    if(product_stock<=record[product_id]['Stock']):\n",
        "      s=\"\"\n",
        "      print(\"************************************\")\n",
        "      print(\"product ID:\",i)\n",
        "      print(\"Name:\",record[i]['Name'])\n",
        "      print(\"Price:\",record[i]['Price'])\n",
        "      print(\"quantity(Per Item):\",record[i]['Quantity'])\n",
        "      print(\"Time and Date: \",time.asctime(ti))\n",
        "      print(\"************************************\")\n",
        "      print(\"Total Price: \",product_stock*record[i]['Price'])\n",
        "      record[product_id]['Stock']=record[product_id]['Stock']-product_stock\n",
        "      s=s+\"product ID: \"+i+\"\\n\"+\"Name: \"+record[i]['Name']+\"\\n\"+\"Price: \"+str(record[i]['Price'])+\"\\n\"+\"quantity(Per Item):\"+str(record[i]['Quantity'])+\"\\n\"+\"Time and Date: \"+time.asctime(ti)\n",
        "    else:\n",
        "      print(\"product is out of stock\")\n",
        "      print(\"The avaliable stock is:\",record[product_id]['Stock'])\n",
        "      break\n",
        "\n",
        "if(product==0):\n",
        "  print(\"Wrong ID, Please enter correct ID\")\n",
        "js=json.dumps(record)\n",
        "fd=open(\"record.json\",\"w\")\n",
        "fd.write(js)\n",
        "fd.close()\n",
        "js1=json.dumps(s)\n",
        "fd1=open(\"sales.json\",\"a\")\n",
        "fd1.write(js1)\n",
        "fd1.close()\n",
        "\n",
        "\n"
      ],
      "execution_count": 119,
      "outputs": [
        {
          "output_type": "stream",
          "name": "stdout",
          "text": [
            "Enter product ID: 19R21A1223\n",
            "Enter the quantity: 4\n",
            "************************************\n",
            "product ID: 19R21A1223\n",
            "Name: Vimal Agro Pickle\n",
            "Price: 200\n",
            "quantity(Per Item): 400grms\n",
            "Time and Date:  Fri Sep  3 06:24:31 2021\n",
            "************************************\n",
            "Total Price:  800\n"
          ]
        }
      ]
    },
    {
      "cell_type": "code",
      "metadata": {
        "id": "u9doaVJOEUKY",
        "outputId": "33a0de4f-e916-40d6-f869-a236c339b94c",
        "colab": {
          "base_uri": "https://localhost:8080/"
        }
      },
      "source": [
        "print(record[product_id]['Stock'])"
      ],
      "execution_count": 120,
      "outputs": [
        {
          "output_type": "stream",
          "name": "stdout",
          "text": [
            "18\n"
          ]
        }
      ]
    },
    {
      "cell_type": "code",
      "metadata": {
        "id": "smb8-cboQjjU"
      },
      "source": [
        "fd=open(\"record.json\",\"r\")\n",
        "txt=fd.read()\n",
        "fd.close()"
      ],
      "execution_count": 121,
      "outputs": []
    },
    {
      "cell_type": "code",
      "metadata": {
        "id": "vbHJkTTzRFqz",
        "outputId": "6b2d62ed-9e0f-4b9e-cf26-56e2505cadd7",
        "colab": {
          "base_uri": "https://localhost:8080/"
        }
      },
      "source": [
        "print(txt)"
      ],
      "execution_count": 122,
      "outputs": [
        {
          "output_type": "stream",
          "name": "stdout",
          "text": [
            "{\"19R21A1201\": {\"Name\": \"Amul Milk\", \"Quantity\": \"1kg\", \"Price\": 65, \"Stock\": 15, \"Category\": \"Food\"}, \"19R21A1202\": {\"Name\": \"Cookies\", \"Quantity\": \"500grms\", \"Price\": 30, \"Stock\": 20, \"Category\": \"Food\"}, \"19R21A1203\": {\"Name\": \"Icecream\", \"Quantity\": \"100grms\", \"Price\": 120, \"Stock\": 10, \"Category\": \"Food\"}, \"19R21A1204\": {\"Name\": \"Balaji Snack\", \"Quantity\": \"250grms\", \"Price\": 70, \"Stock\": 30, \"Category\": \"Food\"}, \"19R21A1205\": {\"Name\": \"Kissan Jam\", \"Quantity\": \"250grms\", \"Price\": 90, \"Stock\": 20, \"Category\": \"Food\"}, \"19R21A1206\": {\"Name\": \"Emami Cooking Oil\", \"Quantity\": \"1kg\", \"Price\": 190, \"Stock\": 30, \"Category\": \"Food\"}, \"19R21A1207\": {\"Name\": \"McChain Pizza\", \"Quantity\": \"1kg\", \"Price\": 300, \"Stock\": 50, \"Category\": \"Food\"}, \"19R21A1208\": {\"Name\": \"Mother Dairy Milk\", \"Quantity\": \"1kg\", \"Price\": 200, \"Stock\": 15, \"Category\": \"Food\"}, \"19R21A1209\": {\"Name\": \"Haldirams Snack\", \"Quantity\": \"1kg\", \"Price\": 500, \"Stock\": 55, \"Category\": \"Food\"}, \"19R21A1210\": {\"Name\": \"MTR Idli Rava\", \"Quantity\": \"1kg\", \"Price\": 60, \"Stock\": 11, \"Category\": \"Food\"}, \"19R21A1211\": {\"Name\": \"Old Monk Wine\", \"Quantity\": \"1kg\", \"Price\": 1500, \"Stock\": 15, \"Category\": \"Food\"}, \"19R21A1212\": {\"Name\": \"MDH Masala\", \"Quantity\": \"10grms\", \"Price\": 10, \"Stock\": 40, \"Category\": \"Food\"}, \"19R21A1213\": {\"Name\": \"PaperBoat Cooldrink\", \"Quantity\": \"100grms\", \"Price\": 20, \"Stock\": 15, \"Category\": \"Food\"}, \"19R21A1214\": {\"Name\": \"veeba Sause\", \"Quantity\": \"1kg\", \"Price\": 400, \"Stock\": 25, \"Category\": \"Food\"}, \"19R21A1215\": {\"Name\": \"White Owl Wine\", \"Quantity\": \"1kg\", \"Price\": 500, \"Stock\": 12, \"Category\": \"Food\"}, \"19R21A1216\": {\"Name\": \"Patanjali Health Drink\", \"Quantity\": \"1kg\", \"Price\": 700, \"Stock\": 5, \"Category\": \"Food\"}, \"19R21A1217\": {\"Name\": \"Bratinna Little Hearts\", \"Quantity\": \"100grms\", \"Price\": 20, \"Stock\": 7, \"Category\": \"Food\"}, \"19R21A1218\": {\"Name\": \"Dabur Honey\", \"Quantity\": \"200grms\", \"Price\": 100, \"Stock\": 15, \"Category\": \"Food\"}, \"19R21A1219\": {\"Name\": \"Everest Masala\", \"Quantity\": \"1kg\", \"Price\": 300, \"Stock\": 25, \"Category\": \"Food\"}, \"19R21A1220\": {\"Name\": \"Rooh Afza Juice\", \"Quantity\": \"1kg\", \"Price\": 200, \"Stock\": 15, \"Category\": \"Food\"}, \"19R21A1221\": {\"Name\": \"Kwality Walls Icecream\", \"Quantity\": \"1kg\", \"Price\": 1000, \"Stock\": 10, \"Category\": \"Food\"}, \"19R21A1222\": {\"Name\": \"Saffola Oil\", \"Quantity\": \"1kg\", \"Price\": 200, \"Stock\": 6, \"Category\": \"Food\"}, \"19R21A1223\": {\"Name\": \"Vimal Agro Pickle\", \"Quantity\": \"400grms\", \"Price\": 200, \"Stock\": 18, \"Category\": \"Food\"}, \"19R21A1224\": {\"Name\": \"Fortune Cooking Oil\", \"Quantity\": \"1kg\", \"Price\": 200, \"Stock\": 15, \"Category\": \"Food\"}, \"19R21A1225\": {\"Name\": \"Tata Sampan Dal\", \"Quantity\": \"1kg\", \"Price\": 50, \"Stock\": 15, \"Category\": \"Food\"}, \"19R21A1226\": {\"Name\": \"Dawaat Basmati Rice\", \"Quantity\": \"1kg\", \"Price\": 200, \"Stock\": 5, \"Category\": \"Food\"}, \"19R21A1227\": {\"Name\": \"Heritage Ghee\", \"Quantity\": \"1kg\", \"Price\": 200, \"Stock\": 1, \"Category\": \"Food\"}, \"19R21A1228\": {\"Name\": \"Hatsun Panner\", \"Quantity\": \"500grms\", \"Price\": 100, \"Stock\": 15, \"Category\": \"Food\"}, \"19R21A1229\": {\"Name\": \"ITC Ashirvaad Atta\", \"Quantity\": \"10kg\", \"Price\": 600, \"Stock\": 7, \"Category\": \"Food\"}, \"19R21A1230\": {\"Name\": \"Disano Pasta\", \"Quantity\": \"1kg\", \"Price\": 200, \"Stock\": 12, \"Category\": \"Food\"}}\n"
          ]
        }
      ]
    },
    {
      "cell_type": "code",
      "metadata": {
        "id": "fFTMpQUeTDNm"
      },
      "source": [
        "fd=open(\"sales.json\",\"r\")\n",
        "txt=fd.read()\n",
        "fd.close()"
      ],
      "execution_count": 123,
      "outputs": []
    },
    {
      "cell_type": "code",
      "metadata": {
        "id": "0ZXOexVkTM4m",
        "outputId": "643b0bbd-dd95-47b1-8fe5-936b3b444355",
        "colab": {
          "base_uri": "https://localhost:8080/"
        }
      },
      "source": [
        "print(txt)"
      ],
      "execution_count": 124,
      "outputs": [
        {
          "output_type": "stream",
          "name": "stdout",
          "text": [
            "{\\rtf1\\ansi\\ansicpg1252\\cocoartf2580\n",
            "\\cocoatextscaling0\\cocoaplatform0{\\fonttbl}\n",
            "{\\colortbl;\\red255\\green255\\blue255;}\n",
            "{\\*\\expandedcolortbl;;}\n",
            "\\paperw11900\\paperh16840\\margl1440\\margr1440\\vieww21860\\viewh15060\\viewkind0\n",
            "}\"product ID: 19R21A1223\\nName: Vimal Agro Pickle\\nPrice: 200\\nquantity(Per Item):400grms\\nTime and Date: Fri Sep  3 06:14:46 2021\"\"product ID: 19R21A1227\\nName: Heritage Ghee\\nPrice: 200\\nquantity(Per Item):1kg\\nTime and Date: Fri Sep  3 06:17:01 2021\"\"product ID: 19R21A1210\\nName: MTR Idli Rava\\nPrice: 60\\nquantity(Per Item):1kg\\nTime and Date: Fri Sep  3 06:19:27 2021\"\"product ID: 19R21A1223\\nName: Vimal Agro Pickle\\nPrice: 200\\nquantity(Per Item):400grms\\nTime and Date: Fri Sep  3 06:24:31 2021\"\n"
          ]
        }
      ]
    }
  ]
}